{
 "cells": [
  {
   "cell_type": "code",
   "execution_count": 20,
   "metadata": {},
   "outputs": [],
   "source": [
    "import csv\n",
    "%matplotlib inline\n",
    "import matplotlib.pyplot as plt\n",
    "import pandas as pd\n",
    "\n",
    "original = {\n",
    "    \"0\":[], \"10\":[],\"20\":[], \"30\":[], \"40\":[], \"50\":[], \"60\":[], \"70\":[], \"80\":[],  \"90\":[],\n",
    "    \"100\":[], \"110\":[], \"120\":[], \"130\":[], \"140\":[], \"150\":[], \"160\":[], \"170\":[], \"180\":[], \"190\":[],\n",
    "  \"200\":[], \"210\":[], \"220\":[], \"230\":[], \"240\":[], \"250\":[], \"260\":[], \"270\":[], \"280\":[], \"290\":[],\n",
    "  \"300\":[], \"310\":[], \"320\":[], \"330\":[], \"340\":[], \"350\":[], \"360\":[], \"370\":[], \"380\":[], \"390\":[],\n",
    "  \"400\":[], \"410\":[], \"420\":[], \"430\":[], \"440\":[], \"450\":[], \"460\":[], \"470\":[], \"480\":[], \"490\":[],\n",
    "  \"500\":[], \"510\":[], \"520\":[], \"530\":[], \"540\":[], \"550\":[], \"560\":[], \"570\":[], \"580\":[], \"590\":[],\n",
    "  \"600\":[], \"610\":[], \"620\":[], \"630\":[], \"640\":[], \"650\":[], \"660\":[], \"670\":[], \"680\":[], \"690\":[],\n",
    "  \"700\":[], \"710\":[], \"720\":[], \"730\":[], \"740\":[], \"750\":[], \"760\":[], \"770\":[], \"780\":[], \"790\":[],\n",
    "  \"800\":[], \"810\":[], \"820\":[], \"830\":[], \"840\":[], \"850\":[], \"860\":[], \"870\":[], \"880\":[], \"890\":[],\n",
    "  \"900\":[], \"910\":[], \"920\":[], \"930\":[], \"940\":[], \"950\":[], \"960\":[], \"970\":[], \"980\":[], \"990\":[],\n",
    "  \"1000\":[], \"1010\":[], \"1020\":[], \"1030\":[], \"1040\":[], \"1050\":[], \"1060\":[], \"1070\":[], \"1080\":[], \"1090\":[],\n",
    "  \"1100\":[], \"1110\":[], \"1120\":[], \"1130\":[], \"1140\":[], \"1150\":[], \"1160\":[], \"1170\":[], \"1180\":[], \"1190\":[],\n",
    "  \"1200\":[], \"1210\":[], \"1220\":[], \"1230\":[], \"1240\":[], \"1250\":[], \"1260\":[], \"1270\":[], \"1280\":[], \"1290\":[]\n",
    "}\n",
    "\n",
    "with open('/home/philipp/usb/projects/yolo2_light/png_out.csv', 'rb') as csvfile:\n",
    "    spamreader = csv.reader(csvfile, delimiter='\\t')\n",
    "    for row in spamreader: \n",
    "        \n",
    "        frame = row[0].split(\"_\")[1].split(\".\")[0].strip()\n",
    "       \n",
    "        obj = row[1].split(\":\")[0].strip()\n",
    "        if obj not in original[frame]:\n",
    "            original[frame].append(obj)\n",
    "\n",
    "result = {\n",
    "    \n",
    "}\n",
    "\n",
    "for frame in original:\n",
    "    result[frame] = {}\n",
    "    if len(original[frame]) == 0:\n",
    "        result[frame] = \"TN\"\n",
    "    else:\n",
    "        result[frame] = \"FN\"\n",
    "#print layerResults\n",
    "#print result"
   ]
  },
  {
   "cell_type": "code",
   "execution_count": 21,
   "metadata": {},
   "outputs": [],
   "source": [
    "with open('/home/philipp/usb/projects/yolo2_light/jpg40_out.csv', 'rb') as csvfile:\n",
    "        spamreader = csv.reader(csvfile, delimiter='\\t')\n",
    "        for row in spamreader: \n",
    "            #print row\n",
    "            frame = row[0].split(\"_\")[2].split(\".\")[0].strip()\n",
    "            obj = row[1].split(\":\")[0].strip()\n",
    "            if obj in original[frame]:\n",
    "                #print \"TP: \" + detectedClass\n",
    "                if result[frame] != \"FP\":\n",
    "                    result[frame] = \"TP\"\n",
    "            else:\n",
    "                #print \"FP: '\" + detectedClass + \"' \" + str(frameResults)\n",
    "                result[frame] = \"FP\"\n",
    "            #print row\n",
    "\n",
    "#print result"
   ]
  },
  {
   "cell_type": "code",
   "execution_count": 22,
   "metadata": {
    "scrolled": true
   },
   "outputs": [
    {
     "name": "stdout",
     "output_type": "stream",
     "text": [
      "[28, 95, 4, 3]\n",
      "0.946153846154\n"
     ]
    }
   ],
   "source": [
    "# TN, TP, FN, FP\n",
    "b = [0,0,0,0]\n",
    "\n",
    "for key in result:\n",
    "        #print key\n",
    "        v = result[key]\n",
    "        if v == \"TN\":\n",
    "                 b[0] += 1\n",
    "        if v == \"TP\":\n",
    "                 b[1] += 1\n",
    "        if v == \"FN\":\n",
    "                 b[2] += 1\n",
    "        if v == \"FP\":\n",
    "                 b[3] +=1\n",
    "\n",
    "def accuracy(a): \n",
    "    acc = (a[1]+a[0])/(a[0]+a[1]+a[2]+a[3]*1.0)\n",
    "    return acc\n",
    "print b\n",
    "print accuracy(b)"
   ]
  },
  {
   "cell_type": "code",
   "execution_count": 23,
   "metadata": {},
   "outputs": [
    {
     "name": "stdout",
     "output_type": "stream",
     "text": [
      "6919632\n",
      "125\n",
      "55357.056\n"
     ]
    }
   ],
   "source": [
    "import os\n",
    "size = 0\n",
    "count = 0\n",
    "root = \"/home/philipp/usb/data/images/jpg_40/\"\n",
    "for f in os.listdir(root):\n",
    "    statinfo = os.stat(root+f)\n",
    "    size += statinfo.st_size\n",
    "    count += 1\n",
    "    \n",
    "print size\n",
    "print count\n",
    "print size / (count * 1.0)\n",
    "    \n",
    "\n"
   ]
  },
  {
   "cell_type": "code",
   "execution_count": null,
   "metadata": {},
   "outputs": [],
   "source": []
  },
  {
   "cell_type": "code",
   "execution_count": null,
   "metadata": {},
   "outputs": [],
   "source": []
  }
 ],
 "metadata": {
  "kernelspec": {
   "display_name": "Python 3",
   "language": "python",
   "name": "python3"
  },
  "language_info": {
   "codemirror_mode": {
    "name": "ipython",
    "version": 2
   },
   "file_extension": ".py",
   "mimetype": "text/x-python",
   "name": "python",
   "nbconvert_exporter": "python",
   "pygments_lexer": "ipython2",
   "version": "2.7.14"
  }
 },
 "nbformat": 4,
 "nbformat_minor": 2
}
