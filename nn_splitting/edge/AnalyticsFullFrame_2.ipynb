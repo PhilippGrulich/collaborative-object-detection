{
 "cells": [
  {
   "cell_type": "code",
   "execution_count": 55,
   "metadata": {},
   "outputs": [],
   "source": [
    "import csv\n",
    "%matplotlib inline\n",
    "import matplotlib.pyplot as plt\n",
    "import pandas as pd\n",
    "import os\n",
    "original = {\n",
    "    \n",
    "}\n",
    "\n",
    "root = \"/home/philipp/usb/data/images3/jpg_100/\"\n",
    "for f in os.listdir(root):\n",
    "    original[f] = []"
   ]
  },
  {
   "cell_type": "code",
   "execution_count": 56,
   "metadata": {},
   "outputs": [],
   "source": [
    "with open('/home/philipp/usb/projects/yolo2_light/jpg100_out.csv', 'rb') as csvfile:\n",
    "    spamreader = csv.reader(csvfile, delimiter='\\t')\n",
    "    for row in spamreader: \n",
    "        \n",
    "        frame = row[0].split(\"//\")[7]\n",
    "       \n",
    "        obj = row[1].split(\":\")[0].strip()\n",
    "        #print frame + \" \" + obj\n",
    "        if obj not in original[frame]:\n",
    "            original[frame].append(obj)\n",
    "\n",
    "result = {\n",
    "    \n",
    "}\n",
    "\n",
    "for frame in original:\n",
    "    result[frame] = {}\n",
    "    if len(original[frame]) == 0:\n",
    "        result[frame] = \"TN\"\n",
    "    else:\n",
    "        result[frame] = \"FN\"\n",
    "#print layerResults\n",
    "#print original"
   ]
  },
  {
   "cell_type": "code",
   "execution_count": 57,
   "metadata": {},
   "outputs": [],
   "source": [
    "with open('/home/philipp/usb/projects/yolo2_light/jpg30_out.csv', 'rb') as csvfile:\n",
    "        spamreader = csv.reader(csvfile, delimiter='\\t')\n",
    "        for row in spamreader: \n",
    "            #print row\n",
    "            frame = row[0].split(\"//\")[7]\n",
    "            obj = row[1].split(\":\")[0].strip()\n",
    "            if obj in original[frame]:\n",
    "                #print \"TP: \" + detectedClass\n",
    "                if result[frame] != \"FP\":\n",
    "                    result[frame] = \"TP\"\n",
    "            else:\n",
    "                #print \"FP: '\" + detectedClass + \"' \" + str(frameResults)\n",
    "                result[frame] = \"FP\"\n",
    "            #print row\n",
    "\n",
    "#print result"
   ]
  },
  {
   "cell_type": "code",
   "execution_count": 58,
   "metadata": {
    "scrolled": true
   },
   "outputs": [
    {
     "name": "stdout",
     "output_type": "stream",
     "text": [
      "[0, 269, 0, 73]\n",
      "0.786549707602\n"
     ]
    }
   ],
   "source": [
    "# TN, TP, FN, FP\n",
    "b = [0,0,0,0]\n",
    "\n",
    "for key in result:\n",
    "        #print key\n",
    "        v = result[key]\n",
    "        if v == \"TN\":\n",
    "                 b[0] += 1\n",
    "        if v == \"TP\":\n",
    "                 b[1] += 1\n",
    "        if v == \"FN\":\n",
    "                 b[2] += 1\n",
    "        if v == \"FP\":\n",
    "                 b[3] +=1\n",
    "\n",
    "def accuracy(a): \n",
    "    acc = (a[1]+a[0])/(a[0]+a[1]+a[2]+a[3]*1.0)\n",
    "    return acc\n",
    "print b\n",
    "print accuracy(b)"
   ]
  },
  {
   "cell_type": "code",
   "execution_count": 59,
   "metadata": {
    "scrolled": true
   },
   "outputs": [
    {
     "name": "stdout",
     "output_type": "stream",
     "text": [
      "15690719\n",
      "342\n",
      "45879.2953216\n"
     ]
    }
   ],
   "source": [
    "import os\n",
    "size = 0\n",
    "count = 0\n",
    "root = \"/home/philipp/usb/data/images3/jpg_30/\"\n",
    "for f in os.listdir(root):\n",
    "    statinfo = os.stat(root+f)\n",
    "    size += statinfo.st_size\n",
    "    count += 1\n",
    "    \n",
    "print size\n",
    "print count\n",
    "print size / (count * 1.0)\n",
    "    \n",
    "\n"
   ]
  },
  {
   "cell_type": "code",
   "execution_count": null,
   "metadata": {},
   "outputs": [],
   "source": []
  },
  {
   "cell_type": "code",
   "execution_count": null,
   "metadata": {},
   "outputs": [],
   "source": []
  }
 ],
 "metadata": {
  "kernelspec": {
   "display_name": "Python 3",
   "language": "python",
   "name": "python3"
  },
  "language_info": {
   "codemirror_mode": {
    "name": "ipython",
    "version": 2
   },
   "file_extension": ".py",
   "mimetype": "text/x-python",
   "name": "python",
   "nbconvert_exporter": "python",
   "pygments_lexer": "ipython2",
   "version": "2.7.14"
  }
 },
 "nbformat": 4,
 "nbformat_minor": 2
}
